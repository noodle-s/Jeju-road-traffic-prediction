{
 "cells": [
  {
   "cell_type": "markdown",
   "id": "5a873ff0",
   "metadata": {},
   "source": [
    "## import library"
   ]
  },
  {
   "cell_type": "code",
   "execution_count": 187,
   "id": "172af6dc",
   "metadata": {},
   "outputs": [],
   "source": [
    "import pandas as pd\n",
    "import exchange_calendars as ecals\n",
    "import matplotlib.pyplot as plt\n",
    "import datetime\n",
    "from sklearn.metrics.pairwise import haversine_distances\n",
    "import numpy as np\n",
    "import os"
   ]
  },
  {
   "cell_type": "markdown",
   "id": "35f877f9",
   "metadata": {},
   "source": [
    "## read data and split feature"
   ]
  },
  {
   "cell_type": "code",
   "execution_count": 214,
   "id": "6fa8592f",
   "metadata": {},
   "outputs": [],
   "source": [
    "data = pd.read_csv('../pre_data.csv')"
   ]
  },
  {
   "cell_type": "code",
   "execution_count": 201,
   "id": "f8d2920d",
   "metadata": {},
   "outputs": [],
   "source": [
    "group = ['base_hour','base_date','lane_count', 'road_rating', 'road_type', 'road_name', 'start_turn_restricted', \n",
    "         'end_turn_restricted', 'weight_restricted', 'maximum_speed_limit','target']\n",
    "data = data[group]"
   ]
  },
  {
   "cell_type": "code",
   "execution_count": 215,
   "id": "25f8269d",
   "metadata": {},
   "outputs": [
    {
     "name": "stdout",
     "output_type": "stream",
     "text": [
      "<class 'pandas.core.frame.DataFrame'>\n",
      "RangeIndex: 4131754 entries, 0 to 4131753\n",
      "Data columns (total 15 columns):\n",
      " #   Column                 Dtype  \n",
      "---  ------                 -----  \n",
      " 0   base_hour              int64  \n",
      " 1   lane_count             int64  \n",
      " 2   road_rating            int64  \n",
      " 3   road_type              int64  \n",
      " 4   road_name              object \n",
      " 5   start_turn_restricted  object \n",
      " 6   end_turn_restricted    object \n",
      " 7   weight_restricted      float64\n",
      " 8   maximum_speed_limit    float64\n",
      " 9   target                 float64\n",
      " 10  holiday                int64  \n",
      " 11  month                  int64  \n",
      " 12  year                   int64  \n",
      " 13  road_visit_count       int64  \n",
      " 14  visitor                int64  \n",
      "dtypes: float64(3), int64(9), object(3)\n",
      "memory usage: 472.8+ MB\n"
     ]
    }
   ],
   "source": [
    "data.info()"
   ]
  },
  {
   "cell_type": "markdown",
   "id": "c34609e0",
   "metadata": {},
   "source": [
    "## data remove \"-\""
   ]
  },
  {
   "cell_type": "code",
   "execution_count": 203,
   "id": "7c013f2a",
   "metadata": {},
   "outputs": [],
   "source": [
    "data = data[data['road_name'] != \"-\"]"
   ]
  },
  {
   "cell_type": "markdown",
   "id": "f5a979f6",
   "metadata": {},
   "source": [
    "## holiday add"
   ]
  },
  {
   "cell_type": "code",
   "execution_count": 204,
   "id": "688ba19f",
   "metadata": {},
   "outputs": [],
   "source": [
    "krx = ecals.get_calendar(\"XKRX\")\n",
    "df = pd.DataFrame(krx.schedule.loc[\"2021-01-01\":\"2022-12-31\"])"
   ]
  },
  {
   "cell_type": "code",
   "execution_count": 205,
   "id": "6a270460",
   "metadata": {},
   "outputs": [],
   "source": [
    "open_date = pd.to_datetime(df['open'])\n",
    "open_date = open_date.dt.strftime('%Y%m%d')\n",
    "open_date = open_date.astype(int)\n",
    "open_date = list(open_date)"
   ]
  },
  {
   "cell_type": "code",
   "execution_count": 206,
   "id": "ddcdad61",
   "metadata": {},
   "outputs": [],
   "source": [
    "data['holiday'] = data['base_date'].isin(open_date)"
   ]
  },
  {
   "cell_type": "code",
   "execution_count": 207,
   "id": "7800d586",
   "metadata": {},
   "outputs": [
    {
     "data": {
      "text/plain": [
       "0    2728064\n",
       "1    1403690\n",
       "Name: holiday, dtype: int64"
      ]
     },
     "execution_count": 207,
     "metadata": {},
     "output_type": "execute_result"
    }
   ],
   "source": [
    "holiday_exist = {True : 0, False : 1}\n",
    "data['holiday'] = data['holiday'].map(holiday_exist)\n",
    "data['holiday'].value_counts()"
   ]
  },
  {
   "cell_type": "code",
   "execution_count": 208,
   "id": "ca336370",
   "metadata": {},
   "outputs": [],
   "source": [
    "data['month'] = data['base_date'].apply(lambda e: str(e)[4:6])\n",
    "data['month'] = data['month'].astype(int)\n",
    "data['year'] = data['base_date'].apply(lambda e: str(e)[0:4])\n",
    "data['year'] = data['year'].astype(int)\n",
    "del data['base_date']"
   ]
  },
  {
   "cell_type": "code",
   "execution_count": null,
   "id": "7832282c",
   "metadata": {},
   "outputs": [],
   "source": [
    "data.hist(bins=50, figsize=(20, 15))\n",
    "plt.show()"
   ]
  },
  {
   "cell_type": "markdown",
   "id": "de92281a",
   "metadata": {},
   "source": [
    "## road count"
   ]
  },
  {
   "cell_type": "code",
   "execution_count": 209,
   "id": "b4993ebe",
   "metadata": {},
   "outputs": [],
   "source": [
    "road_visit_count = data['road_name'].value_counts()\n",
    "tmp = pd.DataFrame({'road_name': list(road_visit_count.index), \"road_visit_count\": list(road_visit_count.values)})\n",
    "data = data.merge(tmp, on='road_name')"
   ]
  },
  {
   "cell_type": "markdown",
   "id": "0dc6b11a",
   "metadata": {},
   "source": [
    "## month visitor"
   ]
  },
  {
   "cell_type": "code",
   "execution_count": 210,
   "id": "ac97b9af",
   "metadata": {},
   "outputs": [
    {
     "name": "stderr",
     "output_type": "stream",
     "text": [
      "/tmp/ipykernel_9502/2214362831.py:7: FutureWarning: The frame.append method is deprecated and will be removed from pandas in a future version. Use pandas.concat instead.\n",
      "  res_visitor_data_df = res_visitor_data_df.append({'year': visitor_data[0:4],\n",
      "/tmp/ipykernel_9502/2214362831.py:7: FutureWarning: The frame.append method is deprecated and will be removed from pandas in a future version. Use pandas.concat instead.\n",
      "  res_visitor_data_df = res_visitor_data_df.append({'year': visitor_data[0:4],\n",
      "/tmp/ipykernel_9502/2214362831.py:7: FutureWarning: The frame.append method is deprecated and will be removed from pandas in a future version. Use pandas.concat instead.\n",
      "  res_visitor_data_df = res_visitor_data_df.append({'year': visitor_data[0:4],\n",
      "/tmp/ipykernel_9502/2214362831.py:7: FutureWarning: The frame.append method is deprecated and will be removed from pandas in a future version. Use pandas.concat instead.\n",
      "  res_visitor_data_df = res_visitor_data_df.append({'year': visitor_data[0:4],\n",
      "/tmp/ipykernel_9502/2214362831.py:7: FutureWarning: The frame.append method is deprecated and will be removed from pandas in a future version. Use pandas.concat instead.\n",
      "  res_visitor_data_df = res_visitor_data_df.append({'year': visitor_data[0:4],\n",
      "/tmp/ipykernel_9502/2214362831.py:7: FutureWarning: The frame.append method is deprecated and will be removed from pandas in a future version. Use pandas.concat instead.\n",
      "  res_visitor_data_df = res_visitor_data_df.append({'year': visitor_data[0:4],\n",
      "/tmp/ipykernel_9502/2214362831.py:7: FutureWarning: The frame.append method is deprecated and will be removed from pandas in a future version. Use pandas.concat instead.\n",
      "  res_visitor_data_df = res_visitor_data_df.append({'year': visitor_data[0:4],\n",
      "/tmp/ipykernel_9502/2214362831.py:7: FutureWarning: The frame.append method is deprecated and will be removed from pandas in a future version. Use pandas.concat instead.\n",
      "  res_visitor_data_df = res_visitor_data_df.append({'year': visitor_data[0:4],\n",
      "/tmp/ipykernel_9502/2214362831.py:7: FutureWarning: The frame.append method is deprecated and will be removed from pandas in a future version. Use pandas.concat instead.\n",
      "  res_visitor_data_df = res_visitor_data_df.append({'year': visitor_data[0:4],\n",
      "/tmp/ipykernel_9502/2214362831.py:7: FutureWarning: The frame.append method is deprecated and will be removed from pandas in a future version. Use pandas.concat instead.\n",
      "  res_visitor_data_df = res_visitor_data_df.append({'year': visitor_data[0:4],\n",
      "/tmp/ipykernel_9502/2214362831.py:7: FutureWarning: The frame.append method is deprecated and will be removed from pandas in a future version. Use pandas.concat instead.\n",
      "  res_visitor_data_df = res_visitor_data_df.append({'year': visitor_data[0:4],\n",
      "/tmp/ipykernel_9502/2214362831.py:7: FutureWarning: The frame.append method is deprecated and will be removed from pandas in a future version. Use pandas.concat instead.\n",
      "  res_visitor_data_df = res_visitor_data_df.append({'year': visitor_data[0:4],\n",
      "/tmp/ipykernel_9502/2214362831.py:7: FutureWarning: The frame.append method is deprecated and will be removed from pandas in a future version. Use pandas.concat instead.\n",
      "  res_visitor_data_df = res_visitor_data_df.append({'year': visitor_data[0:4],\n",
      "/tmp/ipykernel_9502/2214362831.py:7: FutureWarning: The frame.append method is deprecated and will be removed from pandas in a future version. Use pandas.concat instead.\n",
      "  res_visitor_data_df = res_visitor_data_df.append({'year': visitor_data[0:4],\n",
      "/tmp/ipykernel_9502/2214362831.py:7: FutureWarning: The frame.append method is deprecated and will be removed from pandas in a future version. Use pandas.concat instead.\n",
      "  res_visitor_data_df = res_visitor_data_df.append({'year': visitor_data[0:4],\n",
      "/tmp/ipykernel_9502/2214362831.py:7: FutureWarning: The frame.append method is deprecated and will be removed from pandas in a future version. Use pandas.concat instead.\n",
      "  res_visitor_data_df = res_visitor_data_df.append({'year': visitor_data[0:4],\n",
      "/tmp/ipykernel_9502/2214362831.py:7: FutureWarning: The frame.append method is deprecated and will be removed from pandas in a future version. Use pandas.concat instead.\n",
      "  res_visitor_data_df = res_visitor_data_df.append({'year': visitor_data[0:4],\n",
      "/tmp/ipykernel_9502/2214362831.py:7: FutureWarning: The frame.append method is deprecated and will be removed from pandas in a future version. Use pandas.concat instead.\n",
      "  res_visitor_data_df = res_visitor_data_df.append({'year': visitor_data[0:4],\n",
      "/tmp/ipykernel_9502/2214362831.py:7: FutureWarning: The frame.append method is deprecated and will be removed from pandas in a future version. Use pandas.concat instead.\n",
      "  res_visitor_data_df = res_visitor_data_df.append({'year': visitor_data[0:4],\n",
      "/tmp/ipykernel_9502/2214362831.py:7: FutureWarning: The frame.append method is deprecated and will be removed from pandas in a future version. Use pandas.concat instead.\n",
      "  res_visitor_data_df = res_visitor_data_df.append({'year': visitor_data[0:4],\n"
     ]
    }
   ],
   "source": [
    "additional_path = \"../additional data/\"\n",
    "visitor_data_list = os.listdir(additional_path)\n",
    "res_visitor_data_df = pd.DataFrame(columns=['year', 'month', 'visitor'])\n",
    "\n",
    "for visitor_data in visitor_data_list:\n",
    "    visitor_data_tmp = pd.read_excel(additional_path + visitor_data)[['Unnamed: 6']].iloc[2,:]\n",
    "    res_visitor_data_df = res_visitor_data_df.append({'year': visitor_data[0:4], \n",
    "                                                      \"month\" : visitor_data[5:7], \n",
    "                                                      \"visitor\" : visitor_data_tmp.values[0]},\n",
    "                                                    ignore_index=True)\n",
    "\n",
    "res_visitor_data_df['month'] = res_visitor_data_df['month'].astype(int)\n",
    "res_visitor_data_df['year'] = res_visitor_data_df['year'].astype(int)\n",
    "data = data.merge(res_visitor_data_df, on=['year','month'])\n",
    "data.to_csv(\"../pre_data.csv\",index=False)"
   ]
  },
  {
   "cell_type": "markdown",
   "id": "50c5a139",
   "metadata": {},
   "source": [
    "## day_of_week number mapping"
   ]
  },
  {
   "cell_type": "code",
   "execution_count": null,
   "id": "49d5f437",
   "metadata": {},
   "outputs": [],
   "source": [
    "date = {'일' : 0, '월' : 1, '화' : 2, '수' : 3, '목' : 4, '금': 5, '토': 6}\n",
    "data['day_of_week'] = data['day_of_week'].map(date)"
   ]
  },
  {
   "cell_type": "code",
   "execution_count": null,
   "id": "0528f3db",
   "metadata": {},
   "outputs": [],
   "source": [
    "data['day_of_week']"
   ]
  },
  {
   "cell_type": "markdown",
   "id": "44fcc944",
   "metadata": {},
   "source": [
    "## sunday data dist"
   ]
  },
  {
   "cell_type": "code",
   "execution_count": null,
   "id": "17933224",
   "metadata": {},
   "outputs": [],
   "source": [
    "sun_data = data[data['day_of_week'] == 0]\n",
    "sun_data.hist(bins=50, figsize=(20, 15))\n",
    "plt.show()"
   ]
  },
  {
   "cell_type": "markdown",
   "id": "80f5c1f0",
   "metadata": {},
   "source": [
    "## tuesday data dist"
   ]
  },
  {
   "cell_type": "code",
   "execution_count": null,
   "id": "a08d82ba",
   "metadata": {},
   "outputs": [],
   "source": [
    "tue_data =  data[data['day_of_week'] == 2]\n",
    "tue_data.hist(bins=50, figsize=(20, 15))\n",
    "plt.show()"
   ]
  },
  {
   "cell_type": "markdown",
   "id": "eba0cda8",
   "metadata": {},
   "source": [
    "## zero hour dist"
   ]
  },
  {
   "cell_type": "code",
   "execution_count": null,
   "id": "074d9783",
   "metadata": {},
   "outputs": [],
   "source": [
    "zero_hour_data = data[data['base_hour'] == 0]\n",
    "zero_hour_data.hist(bins=50, figsize=(20, 15))\n",
    "plt.show()"
   ]
  },
  {
   "cell_type": "markdown",
   "id": "81c66a19",
   "metadata": {},
   "source": [
    "## one hour dist"
   ]
  },
  {
   "cell_type": "code",
   "execution_count": null,
   "id": "4af22aa2",
   "metadata": {},
   "outputs": [],
   "source": [
    "one_hour_data = data[data['base_hour'] == 1]\n",
    "one_hour_data.hist(bins=50, figsize=(20, 15))\n",
    "plt.show()"
   ]
  },
  {
   "cell_type": "markdown",
   "id": "b75f31ab",
   "metadata": {},
   "source": [
    "## Feb dist"
   ]
  },
  {
   "cell_type": "code",
   "execution_count": null,
   "id": "7c4340ae",
   "metadata": {},
   "outputs": [],
   "source": [
    "feb_data = data[data['month'] == 5]\n",
    "feb_data.hist(bins=50, figsize=(20, 15))\n",
    "plt.show()"
   ]
  },
  {
   "cell_type": "markdown",
   "id": "b9bb295f",
   "metadata": {},
   "source": [
    "## nov dist"
   ]
  },
  {
   "cell_type": "code",
   "execution_count": null,
   "id": "9bc13d5a",
   "metadata": {},
   "outputs": [],
   "source": [
    "nov_data = data[data['month'] == 6]\n",
    "nov_data.hist(bins=50, figsize=(20, 15))\n",
    "plt.show()"
   ]
  },
  {
   "cell_type": "code",
   "execution_count": null,
   "id": "9b58e862",
   "metadata": {},
   "outputs": [],
   "source": [
    "data.hist(bins=50, figsize=(20, 15))"
   ]
  },
  {
   "cell_type": "markdown",
   "id": "2e2329de",
   "metadata": {},
   "source": [
    "## feature importance"
   ]
  },
  {
   "cell_type": "code",
   "execution_count": null,
   "id": "aca1bda6",
   "metadata": {},
   "outputs": [],
   "source": [
    "from sklearn.feature_selection import chi2"
   ]
  },
  {
   "cell_type": "code",
   "execution_count": null,
   "id": "36a0a56a",
   "metadata": {},
   "outputs": [],
   "source": [
    "cat_list = ['lane_count', 'road_rating','maximum_speed_limit','day_of_week', 'multi_linked',\n",
    "            'connect_code','road_type','holiday', 'connect_code', 'weight_restricted', 'height_restricted']\n",
    "#multi_linked, day_of_week\n",
    "X = data[cat_list]\n",
    "y = data['target']\n",
    "chi_scores = chi2(X,y)\n",
    "chi_scores"
   ]
  },
  {
   "cell_type": "code",
   "execution_count": null,
   "id": "07d19027",
   "metadata": {},
   "outputs": [],
   "source": [
    "p_values = pd.Series(chi_scores[1],index = X.columns)\n",
    "p_values.sort_values(ascending = False , inplace = True)\n",
    "p_values.plot.bar()"
   ]
  },
  {
   "cell_type": "code",
   "execution_count": null,
   "id": "7c828d68",
   "metadata": {},
   "outputs": [],
   "source": [
    "p_values"
   ]
  },
  {
   "cell_type": "markdown",
   "id": "04a2ad5b",
   "metadata": {},
   "source": [
    "## lane_count"
   ]
  },
  {
   "cell_type": "code",
   "execution_count": null,
   "id": "3909a3de",
   "metadata": {},
   "outputs": [],
   "source": [
    "one_lane_data = data[data['lane_count'] == 1]\n",
    "one_lane_data.hist(bins=50, figsize=(20, 15))"
   ]
  },
  {
   "cell_type": "code",
   "execution_count": null,
   "id": "5e008a54",
   "metadata": {},
   "outputs": [],
   "source": [
    "two_lane_data = data[data['lane_count'] == 2]\n",
    "two_lane_data.hist(bins=50, figsize=(20, 15))"
   ]
  },
  {
   "cell_type": "code",
   "execution_count": null,
   "id": "243df67b",
   "metadata": {},
   "outputs": [],
   "source": [
    "three_lane_data = data[data['lane_count'] == 3]\n",
    "three_lane_data.hist(bins=50, figsize=(20, 15))"
   ]
  },
  {
   "cell_type": "code",
   "execution_count": null,
   "id": "59e6cfbb",
   "metadata": {},
   "outputs": [],
   "source": []
  }
 ],
 "metadata": {
  "kernelspec": {
   "display_name": "traffic",
   "language": "python",
   "name": "traffic"
  },
  "language_info": {
   "codemirror_mode": {
    "name": "ipython",
    "version": 3
   },
   "file_extension": ".py",
   "mimetype": "text/x-python",
   "name": "python",
   "nbconvert_exporter": "python",
   "pygments_lexer": "ipython3",
   "version": "3.8.13"
  }
 },
 "nbformat": 4,
 "nbformat_minor": 5
}
