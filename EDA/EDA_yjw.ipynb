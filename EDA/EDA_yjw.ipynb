{
 "cells": [
  {
   "cell_type": "code",
   "execution_count": 1,
   "id": "7c1a906b",
   "metadata": {},
   "outputs": [],
   "source": [
    "import os\n",
    "import sys\n",
    "import numpy as np\n",
    "import pandas as pd\n",
    "import matplotlib.pyplot as plt\n",
    "from tqdm import tqdm"
   ]
  },
  {
   "cell_type": "code",
   "execution_count": 2,
   "id": "bb55cb59",
   "metadata": {},
   "outputs": [],
   "source": [
    "train_data = pd.read_csv('../../data/train.csv')"
   ]
  },
  {
   "cell_type": "markdown",
   "id": "23a83988",
   "metadata": {},
   "source": [
    "# 데이터 구조 분석"
   ]
  },
  {
   "cell_type": "code",
   "execution_count": 3,
   "id": "a21cc0ac",
   "metadata": {},
   "outputs": [
    {
     "name": "stdout",
     "output_type": "stream",
     "text": [
      "<class 'pandas.core.frame.DataFrame'>\n",
      "RangeIndex: 4701217 entries, 0 to 4701216\n",
      "Data columns (total 23 columns):\n",
      " #   Column                 Dtype  \n",
      "---  ------                 -----  \n",
      " 0   id                     object \n",
      " 1   base_date              int64  \n",
      " 2   day_of_week            object \n",
      " 3   base_hour              int64  \n",
      " 4   lane_count             int64  \n",
      " 5   road_rating            int64  \n",
      " 6   road_name              object \n",
      " 7   multi_linked           int64  \n",
      " 8   connect_code           int64  \n",
      " 9   maximum_speed_limit    float64\n",
      " 10  vehicle_restricted     float64\n",
      " 11  weight_restricted      float64\n",
      " 12  height_restricted      float64\n",
      " 13  road_type              int64  \n",
      " 14  start_node_name        object \n",
      " 15  start_latitude         float64\n",
      " 16  start_longitude        float64\n",
      " 17  start_turn_restricted  object \n",
      " 18  end_node_name          object \n",
      " 19  end_latitude           float64\n",
      " 20  end_longitude          float64\n",
      " 21  end_turn_restricted    object \n",
      " 22  target                 float64\n",
      "dtypes: float64(9), int64(7), object(7)\n",
      "memory usage: 825.0+ MB\n"
     ]
    }
   ],
   "source": [
    "train_data.info()"
   ]
  },
  {
   "cell_type": "code",
   "execution_count": 4,
   "id": "139a3fd2",
   "metadata": {},
   "outputs": [
    {
     "data": {
      "text/html": [
       "<div>\n",
       "<style scoped>\n",
       "    .dataframe tbody tr th:only-of-type {\n",
       "        vertical-align: middle;\n",
       "    }\n",
       "\n",
       "    .dataframe tbody tr th {\n",
       "        vertical-align: top;\n",
       "    }\n",
       "\n",
       "    .dataframe thead th {\n",
       "        text-align: right;\n",
       "    }\n",
       "</style>\n",
       "<table border=\"1\" class=\"dataframe\">\n",
       "  <thead>\n",
       "    <tr style=\"text-align: right;\">\n",
       "      <th></th>\n",
       "      <th>id</th>\n",
       "      <th>base_date</th>\n",
       "      <th>day_of_week</th>\n",
       "      <th>base_hour</th>\n",
       "      <th>lane_count</th>\n",
       "      <th>road_rating</th>\n",
       "      <th>road_name</th>\n",
       "      <th>multi_linked</th>\n",
       "      <th>connect_code</th>\n",
       "      <th>maximum_speed_limit</th>\n",
       "      <th>...</th>\n",
       "      <th>road_type</th>\n",
       "      <th>start_node_name</th>\n",
       "      <th>start_latitude</th>\n",
       "      <th>start_longitude</th>\n",
       "      <th>start_turn_restricted</th>\n",
       "      <th>end_node_name</th>\n",
       "      <th>end_latitude</th>\n",
       "      <th>end_longitude</th>\n",
       "      <th>end_turn_restricted</th>\n",
       "      <th>target</th>\n",
       "    </tr>\n",
       "  </thead>\n",
       "  <tbody>\n",
       "    <tr>\n",
       "      <th>0</th>\n",
       "      <td>TRAIN_0000000</td>\n",
       "      <td>20220623</td>\n",
       "      <td>목</td>\n",
       "      <td>17</td>\n",
       "      <td>1</td>\n",
       "      <td>106</td>\n",
       "      <td>지방도1112호선</td>\n",
       "      <td>0</td>\n",
       "      <td>0</td>\n",
       "      <td>60.0</td>\n",
       "      <td>...</td>\n",
       "      <td>3</td>\n",
       "      <td>제3교래교</td>\n",
       "      <td>33.427747</td>\n",
       "      <td>126.662612</td>\n",
       "      <td>없음</td>\n",
       "      <td>제3교래교</td>\n",
       "      <td>33.427749</td>\n",
       "      <td>126.662335</td>\n",
       "      <td>없음</td>\n",
       "      <td>52.0</td>\n",
       "    </tr>\n",
       "    <tr>\n",
       "      <th>1</th>\n",
       "      <td>TRAIN_0000001</td>\n",
       "      <td>20220728</td>\n",
       "      <td>목</td>\n",
       "      <td>21</td>\n",
       "      <td>2</td>\n",
       "      <td>103</td>\n",
       "      <td>일반국도11호선</td>\n",
       "      <td>0</td>\n",
       "      <td>0</td>\n",
       "      <td>60.0</td>\n",
       "      <td>...</td>\n",
       "      <td>0</td>\n",
       "      <td>광양사거리</td>\n",
       "      <td>33.500730</td>\n",
       "      <td>126.529107</td>\n",
       "      <td>있음</td>\n",
       "      <td>KAL사거리</td>\n",
       "      <td>33.504811</td>\n",
       "      <td>126.526240</td>\n",
       "      <td>없음</td>\n",
       "      <td>30.0</td>\n",
       "    </tr>\n",
       "    <tr>\n",
       "      <th>2</th>\n",
       "      <td>TRAIN_0000002</td>\n",
       "      <td>20211010</td>\n",
       "      <td>일</td>\n",
       "      <td>7</td>\n",
       "      <td>2</td>\n",
       "      <td>103</td>\n",
       "      <td>일반국도16호선</td>\n",
       "      <td>0</td>\n",
       "      <td>0</td>\n",
       "      <td>80.0</td>\n",
       "      <td>...</td>\n",
       "      <td>0</td>\n",
       "      <td>창고천교</td>\n",
       "      <td>33.279145</td>\n",
       "      <td>126.368598</td>\n",
       "      <td>없음</td>\n",
       "      <td>상창육교</td>\n",
       "      <td>33.280072</td>\n",
       "      <td>126.362147</td>\n",
       "      <td>없음</td>\n",
       "      <td>61.0</td>\n",
       "    </tr>\n",
       "    <tr>\n",
       "      <th>3</th>\n",
       "      <td>TRAIN_0000003</td>\n",
       "      <td>20220311</td>\n",
       "      <td>금</td>\n",
       "      <td>13</td>\n",
       "      <td>2</td>\n",
       "      <td>107</td>\n",
       "      <td>태평로</td>\n",
       "      <td>0</td>\n",
       "      <td>0</td>\n",
       "      <td>50.0</td>\n",
       "      <td>...</td>\n",
       "      <td>0</td>\n",
       "      <td>남양리조트</td>\n",
       "      <td>33.246081</td>\n",
       "      <td>126.567204</td>\n",
       "      <td>없음</td>\n",
       "      <td>서현주택</td>\n",
       "      <td>33.245565</td>\n",
       "      <td>126.566228</td>\n",
       "      <td>없음</td>\n",
       "      <td>20.0</td>\n",
       "    </tr>\n",
       "    <tr>\n",
       "      <th>4</th>\n",
       "      <td>TRAIN_0000004</td>\n",
       "      <td>20211005</td>\n",
       "      <td>화</td>\n",
       "      <td>8</td>\n",
       "      <td>2</td>\n",
       "      <td>103</td>\n",
       "      <td>일반국도12호선</td>\n",
       "      <td>0</td>\n",
       "      <td>0</td>\n",
       "      <td>80.0</td>\n",
       "      <td>...</td>\n",
       "      <td>0</td>\n",
       "      <td>애월샷시</td>\n",
       "      <td>33.462214</td>\n",
       "      <td>126.326551</td>\n",
       "      <td>없음</td>\n",
       "      <td>애월입구</td>\n",
       "      <td>33.462677</td>\n",
       "      <td>126.330152</td>\n",
       "      <td>없음</td>\n",
       "      <td>38.0</td>\n",
       "    </tr>\n",
       "  </tbody>\n",
       "</table>\n",
       "<p>5 rows × 23 columns</p>\n",
       "</div>"
      ],
      "text/plain": [
       "              id  base_date day_of_week  base_hour  lane_count  road_rating  \\\n",
       "0  TRAIN_0000000   20220623           목         17           1          106   \n",
       "1  TRAIN_0000001   20220728           목         21           2          103   \n",
       "2  TRAIN_0000002   20211010           일          7           2          103   \n",
       "3  TRAIN_0000003   20220311           금         13           2          107   \n",
       "4  TRAIN_0000004   20211005           화          8           2          103   \n",
       "\n",
       "   road_name  multi_linked  connect_code  maximum_speed_limit  ...  road_type  \\\n",
       "0  지방도1112호선             0             0                 60.0  ...          3   \n",
       "1   일반국도11호선             0             0                 60.0  ...          0   \n",
       "2   일반국도16호선             0             0                 80.0  ...          0   \n",
       "3        태평로             0             0                 50.0  ...          0   \n",
       "4   일반국도12호선             0             0                 80.0  ...          0   \n",
       "\n",
       "   start_node_name  start_latitude  start_longitude start_turn_restricted  \\\n",
       "0            제3교래교       33.427747       126.662612                    없음   \n",
       "1            광양사거리       33.500730       126.529107                    있음   \n",
       "2             창고천교       33.279145       126.368598                    없음   \n",
       "3            남양리조트       33.246081       126.567204                    없음   \n",
       "4             애월샷시       33.462214       126.326551                    없음   \n",
       "\n",
       "   end_node_name  end_latitude end_longitude end_turn_restricted  target  \n",
       "0          제3교래교     33.427749    126.662335                  없음    52.0  \n",
       "1         KAL사거리     33.504811    126.526240                  없음    30.0  \n",
       "2           상창육교     33.280072    126.362147                  없음    61.0  \n",
       "3           서현주택     33.245565    126.566228                  없음    20.0  \n",
       "4           애월입구     33.462677    126.330152                  없음    38.0  \n",
       "\n",
       "[5 rows x 23 columns]"
      ]
     },
     "execution_count": 4,
     "metadata": {},
     "output_type": "execute_result"
    }
   ],
   "source": [
    "train_data.head()"
   ]
  },
  {
   "cell_type": "code",
   "execution_count": 5,
   "id": "f42ac078",
   "metadata": {},
   "outputs": [],
   "source": [
    "pd.set_option('display.max_columns', None)\n",
    "pd.set_option('display.max_rows', None)"
   ]
  },
  {
   "cell_type": "code",
   "execution_count": 6,
   "id": "75b4e3a9",
   "metadata": {},
   "outputs": [
    {
     "data": {
      "text/plain": [
       "금    684024\n",
       "수    675583\n",
       "목    674070\n",
       "일    673632\n",
       "토    669767\n",
       "화    662498\n",
       "월    661643\n",
       "Name: day_of_week, dtype: int64"
      ]
     },
     "execution_count": 6,
     "metadata": {},
     "output_type": "execute_result"
    }
   ],
   "source": [
    "train_data['day_of_week'].value_counts()"
   ]
  },
  {
   "cell_type": "code",
   "execution_count": 7,
   "id": "bb3f3483",
   "metadata": {},
   "outputs": [
    {
     "name": "stdout",
     "output_type": "stream",
     "text": [
      "일반국도12호선     1046092\n",
      "-             569463\n",
      "일반국도16호선      554510\n",
      "일반국도95호선      248181\n",
      "일반국도11호선      215701\n",
      "지방도1132호선     179200\n",
      "중산간서로         136629\n",
      "태평로           129117\n",
      "지방도1112호선     108777\n",
      "지방도97호선       106113\n",
      "번영로            94125\n",
      "지방도1118호선      84964\n",
      "일반국도99호선       82999\n",
      "동홍로            78188\n",
      "지방도1120호선      78012\n",
      "새서귀로           77942\n",
      "경찰로            77889\n",
      "지방도1115호선      70282\n",
      "연삼로            60208\n",
      "중문로            57540\n",
      "중앙로            54192\n",
      "권학로            40341\n",
      "지방도1119호선      40081\n",
      "시청로            34199\n",
      "산서로            33001\n",
      "시민광장로          32320\n",
      "중정로            30509\n",
      "서사로            23242\n",
      "관광단지로          23116\n",
      "첨단로            16684\n",
      "연북로            12093\n",
      "애조로            12092\n",
      "연북2교           12085\n",
      "제2거로교          12070\n",
      "연동로            12056\n",
      "동부관광도로         12045\n",
      "한천로            11973\n",
      "관덕로            11962\n",
      "고평교            11950\n",
      "신대로            11944\n",
      "지방도1136호선      11913\n",
      "어시천교           11835\n",
      "외도천교           11835\n",
      "삼성로            11727\n",
      "신산로            11672\n",
      "관광단지1로         10706\n",
      "지방도1116호선      10685\n",
      "일주동로           10647\n",
      "삼무로            10634\n",
      "신광로            10604\n",
      "동문로            10603\n",
      "수영장길           10180\n",
      "관광단지2로         10126\n",
      "삼봉로            10116\n",
      "임항로            10091\n",
      "지방도1117호선       8677\n",
      "애원로             7718\n",
      "아봉로             7342\n",
      "남조로             6813\n",
      "호서중앙로           2819\n",
      "호근로              587\n",
      "Name: road_name, dtype: int64\n",
      "feature 'road_name' length : 61\n"
     ]
    }
   ],
   "source": [
    "print(train_data['road_name'].value_counts())\n",
    "print('feature \\'road_name\\' length : {}'.format(len(train_data['road_name'].value_counts())))"
   ]
  },
  {
   "cell_type": "code",
   "execution_count": 8,
   "id": "0455ed9f",
   "metadata": {
    "scrolled": false
   },
   "outputs": [
    {
     "name": "stdout",
     "output_type": "stream",
     "text": [
      "고성교차로      42169\n",
      "산신주유소      29386\n",
      "미수2교       26635\n",
      "영주교        24381\n",
      "봉개교 시종점    24290\n",
      "해안교        24182\n",
      "제2거로교      24140\n",
      "동홍교        23628\n",
      "도순교        23489\n",
      "제6산록교      23425\n",
      "제5산록교      23425\n",
      "정방수퍼       23291\n",
      "자운당교       22818\n",
      "중앙교        22723\n",
      "중문농협       22686\n",
      "구엄교        22120\n",
      "천제이교       21636\n",
      "제4교래교      21618\n",
      "제6광령교      21486\n",
      "제2고성교      21484\n",
      "제3고성교      21484\n",
      "상창육교       21373\n",
      "대원교        21305\n",
      "제2성읍교      21190\n",
      "한국통신       21149\n",
      "제1성읍교      21128\n",
      "윤고교        20943\n",
      "대천동사거리     20775\n",
      "진은교        20282\n",
      "제2가시교      20062\n",
      "Name: start_node_name, dtype: int64\n",
      "feature 'start_node_name' length : 487\n"
     ]
    }
   ],
   "source": [
    "print(train_data['start_node_name'].value_counts().head(30))\n",
    "print('feature \\'start_node_name\\' length : {}'.format(len(train_data['start_node_name'].value_counts())))"
   ]
  },
  {
   "cell_type": "code",
   "execution_count": 9,
   "id": "c0f62047",
   "metadata": {},
   "outputs": [
    {
     "name": "stdout",
     "output_type": "stream",
     "text": [
      "고성교차로      42265\n",
      "산신주유소      29202\n",
      "구엄교        27510\n",
      "미수2교       26621\n",
      "영주교        24370\n",
      "봉개교 시종점    24292\n",
      "해안교        24169\n",
      "제2거로교      24141\n",
      "동홍교        23622\n",
      "도순교        23490\n",
      "제6산록교      23425\n",
      "제5산록교      23425\n",
      "정방수퍼       23126\n",
      "중앙교        22722\n",
      "자운당교       22692\n",
      "중문농협       22283\n",
      "천제이교       21649\n",
      "제4교래교      21615\n",
      "제6광령교      21486\n",
      "제2고성교      21484\n",
      "제3고성교      21484\n",
      "상창육교       21373\n",
      "대원교        21300\n",
      "제2성읍교      21298\n",
      "제1성읍교      21120\n",
      "윤고교        20950\n",
      "한국통신       20889\n",
      "대천동사거리     20791\n",
      "진은교        20282\n",
      "제2가시교      20048\n",
      "Name: end_node_name, dtype: int64\n",
      "feature 'end_node_name' length : 487\n"
     ]
    }
   ],
   "source": [
    "print(train_data['end_node_name'].value_counts().head(30))\n",
    "print('feature \\'end_node_name\\' length : {}'.format(len(train_data['end_node_name'].value_counts())))"
   ]
  },
  {
   "cell_type": "code",
   "execution_count": 10,
   "id": "a7e864a8",
   "metadata": {},
   "outputs": [
    {
     "data": {
      "text/plain": [
       "없음    4239701\n",
       "있음     461516\n",
       "Name: start_turn_restricted, dtype: int64"
      ]
     },
     "execution_count": 10,
     "metadata": {},
     "output_type": "execute_result"
    }
   ],
   "source": [
    "train_data['start_turn_restricted'].value_counts()"
   ]
  },
  {
   "cell_type": "code",
   "execution_count": 11,
   "id": "5079ef43",
   "metadata": {},
   "outputs": [
    {
     "data": {
      "text/plain": [
       "없음    4239599\n",
       "있음     461618\n",
       "Name: end_turn_restricted, dtype: int64"
      ]
     },
     "execution_count": 11,
     "metadata": {},
     "output_type": "execute_result"
    }
   ],
   "source": [
    "train_data['end_turn_restricted'].value_counts()"
   ]
  },
  {
   "cell_type": "code",
   "execution_count": 12,
   "id": "1d340a57",
   "metadata": {},
   "outputs": [
    {
     "data": {
      "image/png": "[encoded data removed]",
      "text/plain": [
       "<Figure size 1440x1080 with 16 Axes>"
      ]
     },
     "metadata": {
      "needs_background": "light"
     },
     "output_type": "display_data"
    }
   ],
   "source": [
    "%matplotlib inline\n",
    "train_data.hist(bins=50, figsize=(20, 15))\n",
    "plt.show()"
   ]
  },
  {
   "cell_type": "code",
   "execution_count": null,
   "id": "a83ec46e",
   "metadata": {},
   "outputs": [],
   "source": []
  }
 ],
 "metadata": {
  "kernelspec": {
   "display_name": "traffic",
   "language": "python",
   "name": "traffic"
  },
  "language_info": {
   "codemirror_mode": {
    "name": "ipython",
    "version": 3
   },
   "file_extension": ".py",
   "mimetype": "text/x-python",
   "name": "python",
   "nbconvert_exporter": "python",
   "pygments_lexer": "ipython3",
   "version": "3.9.7"
  }
 },
 "nbformat": 4,
 "nbformat_minor": 5
}
